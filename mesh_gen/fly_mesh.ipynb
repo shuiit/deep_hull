{
 "cells": [
  {
   "cell_type": "code",
   "execution_count": 1,
   "metadata": {},
   "outputs": [
    {
     "name": "stdout",
     "output_type": "stream",
     "text": [
      "Jupyter environment detected. Enabling Open3D WebVisualizer.\n",
      "[Open3D INFO] WebRTC GUI backend enabled.\n",
      "[Open3D INFO] WebRTCWindowSystem: HTTP handshake server disabled.\n"
     ]
    }
   ],
   "source": [
    "from scipy import io\n",
    "import numpy as np\n",
    "import pandas as pd\n",
    "import plotly.graph_objects as go\n",
    "import plotly\n",
    "import plotly.io as pio\n",
    "import Plotters\n",
    "import open3d as o3d\n",
    "\n",
    "pio.renderers.default = \"browser\"\n",
    "path = 'J:\\My Drive\\Roni\\csv_mov'\n",
    "mov = 'mov15'\n",
    "files_to_load = [f'hull_data_{mov}',f'real_coords_{mov}','rot_mat']\n",
    "\n",
    "# load data to dictionary\n",
    "data_dict = {file_to_load : pd.read_csv(f'{path}\\{file_to_load}.csv') for file_to_load in files_to_load}\n",
    "\n",
    "\n",
    "\n"
   ]
  },
  {
   "cell_type": "code",
   "execution_count": 2,
   "metadata": {},
   "outputs": [],
   "source": [
    "# load body and wing data to dictionary\n",
    "name_of_parts = ['body','wing_l','wing_r']\n",
    "fly_hull = {name_of_part : data_dict[files_to_load[0]].query(f'{name_of_part} == 1')[['x','y','z']] for name_of_part in name_of_parts}\n",
    "# load real coordinates\n",
    "real_coord = {ax: data_dict[files_to_load[1]].query(f'{ax} == 1')['real_coords'].reset_index(drop = True) for ax in ['x','y','z']}"
   ]
  },
  {
   "cell_type": "code",
   "execution_count": 3,
   "metadata": {},
   "outputs": [],
   "source": [
    "# rotate and save the hull in lab axes\n",
    "rot_mat = data_dict['rot_mat'].to_numpy()\n",
    "real_hull = {body_wing : np.dot(rot_mat,np.vstack([real_coord[ax][fly_hull[body_wing][ax]] for ax in ['x','y','z']])).T for body_wing in name_of_parts}"
   ]
  },
  {
   "cell_type": "code",
   "execution_count": 6,
   "metadata": {},
   "outputs": [
    {
     "ename": "NameError",
     "evalue": "name 'real_hull' is not defined",
     "output_type": "error",
     "traceback": [
      "\u001b[1;31m---------------------------------------------------------------------------\u001b[0m",
      "\u001b[1;31mNameError\u001b[0m                                 Traceback (most recent call last)",
      "Cell \u001b[1;32mIn[6], line 1\u001b[0m\n\u001b[1;32m----> 1\u001b[0m Plotters\u001b[38;5;241m.\u001b[39mplot_hull(\u001b[43mreal_hull\u001b[49m,size \u001b[38;5;241m=\u001b[39m \u001b[38;5;241m3\u001b[39m)\n",
      "\u001b[1;31mNameError\u001b[0m: name 'real_hull' is not defined"
     ]
    }
   ],
   "source": [
    "\n",
    "Plotters.plot_hull(real_hull,size = 3)\n",
    "\n"
   ]
  },
  {
   "cell_type": "code",
   "execution_count": 2,
   "metadata": {},
   "outputs": [
    {
     "name": "stdout",
     "output_type": "stream",
     "text": [
      "Jupyter environment detected. Enabling Open3D WebVisualizer.\n",
      "[Open3D INFO] WebRTC GUI backend enabled.\n",
      "[Open3D INFO] WebRTCWindowSystem: HTTP handshake server disabled.\n",
      "Testing IO for meshes ...\n",
      "[Open3D WARNING] Read PLY failed: unable to open file: ../../TestData/knot.ply\n",
      "TriangleMesh with 0 points and 0 triangles.\n",
      "[Open3D WARNING] Write PLY failed: mesh has 0 vertices.\n"
     ]
    },
    {
     "data": {
      "text/plain": [
       "False"
      ]
     },
     "execution_count": 2,
     "metadata": {},
     "output_type": "execute_result"
    }
   ],
   "source": [
    "import open3d as o3d\n",
    "print(\"Testing IO for meshes ...\")\n",
    "mesh = o3d.io.read_triangle_mesh(\"../../TestData/knot.ply\")\n",
    "print(mesh)\n",
    "o3d.io.write_triangle_mesh(\"copy_of_knot.ply\", mesh)"
   ]
  },
  {
   "cell_type": "code",
   "execution_count": 6,
   "metadata": {},
   "outputs": [],
   "source": [
    "\n",
    "def gen_pcd(hull,color):\n",
    "    pcd = o3d.geometry.PointCloud()\n",
    "    pcd.points = o3d.utility.Vector3dVector(hull)\n",
    "    pcd.colors = o3d.utility.Vector3dVector(color)\n",
    "    return pcd"
   ]
  },
  {
   "cell_type": "code",
   "execution_count": 4,
   "metadata": {},
   "outputs": [],
   "source": [
    "rwing = real_hull['wing_r'][0:100,:]\n",
    "pcd = o3d.geometry.PointCloud()\n"
   ]
  },
  {
   "cell_type": "code",
   "execution_count": 5,
   "metadata": {},
   "outputs": [
    {
     "ename": "",
     "evalue": "",
     "output_type": "error",
     "traceback": [
      "\u001b[1;31mThe Kernel crashed while executing code in the current cell or a previous cell. \n",
      "\u001b[1;31mPlease review the code in the cell(s) to identify a possible cause of the failure. \n",
      "\u001b[1;31mClick <a href='https://aka.ms/vscodeJupyterKernelCrash'>here</a> for more info. \n",
      "\u001b[1;31mView Jupyter <a href='command:jupyter.viewOutput'>log</a> for further details."
     ]
    }
   ],
   "source": [
    "pcd.points = o3d.utility.Vector3dVector(rwing)\n"
   ]
  },
  {
   "cell_type": "code",
   "execution_count": 8,
   "metadata": {},
   "outputs": [
    {
     "ename": "",
     "evalue": "",
     "output_type": "error",
     "traceback": [
      "\u001b[1;31mThe Kernel crashed while executing code in the current cell or a previous cell. \n",
      "\u001b[1;31mPlease review the code in the cell(s) to identify a possible cause of the failure. \n",
      "\u001b[1;31mClick <a href='https://aka.ms/vscodeJupyterKernelCrash'>here</a> for more info. \n",
      "\u001b[1;31mView Jupyter <a href='command:jupyter.viewOutput'>log</a> for further details."
     ]
    }
   ],
   "source": [
    "from scipy import io\n",
    "import numpy as np\n",
    "import open3d as o3d\n",
    "\n",
    "\n",
    "\n",
    "body = real_hull['body']\n",
    "lwing = real_hull['wing_l']\n",
    "rwing = real_hull['wing_r'][0:100,:]\n",
    "\n",
    "\n",
    "\n",
    "color = np.vstack((np.tile([0.0,1.0,0.0],(body.shape[0],1)),np.tile([1.0,0.0,0.0],(rwing.shape[0],1)),np.tile([0.0,0.0,1.0],(lwing.shape[0],1))))\n",
    "pcd = o3d.geometry.PointCloud()\n",
    "pcd.points = o3d.utility.Vector3dVector(rwing)\n",
    "\n",
    "# pcd_all= gen_pcd(body,color)\n",
    "# pcd_body = gen_pcd(body,np.vstack((np.tile([0.0,1.0,0.0],(body.shape[0],1)))))\n",
    "# pcd_rwing= gen_pcd(rwing,np.vstack((np.tile([0.0,1.0,0.0],(body.shape[0],1)))))\n",
    "# pcd_lwing= gen_pcd(lwing,np.vstack((np.tile([0.0,1.0,0.0],(body.shape[0],1)))))\n",
    "# poisson_mesh = o3d.geometry.TriangleMesh.create_from_point_cloud_poisson(pcd_all, depth=11)[0]\n",
    "\n"
   ]
  }
 ],
 "metadata": {
  "kernelspec": {
   "display_name": "base",
   "language": "python",
   "name": "python3"
  },
  "language_info": {
   "codemirror_mode": {
    "name": "ipython",
    "version": 3
   },
   "file_extension": ".py",
   "mimetype": "text/x-python",
   "name": "python",
   "nbconvert_exporter": "python",
   "pygments_lexer": "ipython3",
   "version": "3.10.14"
  }
 },
 "nbformat": 4,
 "nbformat_minor": 2
}
